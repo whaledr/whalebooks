{
 "cells": [
  {
   "cell_type": "markdown",
   "metadata": {
    "ExecuteTime": {
     "end_time": "2018-11-06T19:28:13.942917Z",
     "start_time": "2018-11-06T19:28:13.939682Z"
    }
   },
   "source": [
    "# Signal Processing"
   ]
  },
  {
   "cell_type": "markdown",
   "metadata": {
    "ExecuteTime": {
     "end_time": "2018-11-06T19:28:13.975953Z",
     "start_time": "2018-11-06T19:28:13.946025Z"
    }
   },
   "source": [
    "This notebook works from mseed files; creates wav-format subsets; displays signals and spectrograms; and so on. It is in the sub-folder 'rob' so that Rob can work on stuff here without breaking other parts of the repo."
   ]
  },
  {
   "cell_type": "code",
   "execution_count": null,
   "metadata": {},
   "outputs": [],
   "source": [
    "!pip install pydub"
   ]
  },
  {
   "cell_type": "code",
   "execution_count": null,
   "metadata": {
    "ExecuteTime": {
     "end_time": "2018-11-06T20:13:43.375851Z",
     "start_time": "2018-11-06T20:13:43.367863Z"
    }
   },
   "outputs": [],
   "source": [
    "from obspy import read\n",
    "import wave\n",
    "from obspy.core import UTCDateTime\n",
    "import matplotlib.pyplot as plt\n",
    "from scipy.io import wavfile\n",
    "from scipy import signal\n",
    "import numpy as np\n",
    "import plotly.offline as py\n",
    "import plotly.graph_objs as go\n",
    "py.init_notebook_mode(connected=True) # to render plotly 3-d spectogram in the notebook\n",
    "\n",
    "import IPython.display as ipd  # To play sound in the notebook\n",
    "import os\n",
    "import wave"
   ]
  },
  {
   "cell_type": "code",
   "execution_count": null,
   "metadata": {
    "ExecuteTime": {
     "end_time": "2018-11-06T20:13:43.375851Z",
     "start_time": "2018-11-06T20:13:43.367863Z"
    }
   },
   "outputs": [],
   "source": [
    "#for chunking audio files\n",
    "from pydub import AudioSegment\n",
    "from pydub.utils import make_chunks\n",
    "\n",
    "%matplotlib inline"
   ]
  },
  {
   "cell_type": "code",
   "execution_count": null,
   "metadata": {},
   "outputs": [],
   "source": [
    "timestamp = '2017-10-06T20:30:00'\n",
    "informal_timestamp = '5min_2017_10_06_20_30'\n",
    "samplefnm = 'sample_' + informal_timestamp + '.wav'"
   ]
  },
  {
   "cell_type": "code",
   "execution_count": null,
   "metadata": {
    "ExecuteTime": {
     "end_time": "2018-11-06T20:12:23.090867Z",
     "start_time": "2018-11-06T20:12:08.693503Z"
    }
   },
   "outputs": [],
   "source": [
    "# Lets read a mseed url\n",
    "# This step might take some time reading data from the URL depending on internet speed.\n",
    "# 20:30 on October 6 2017 is a sperm whale; for example at 20:34:20 and 20:35:50\n",
    "# Also notice that the data_url needs to have the right magical set of digits after the \n",
    "#   decimal point as in 00.000016.\n",
    "\n",
    "base_url = 'https://rawdata.oceanobservatories.org/files/'\n",
    "instrument_qualifier = 'RS01SLBS/LJ01A/09-HYDBBA102/'\n",
    "datetime_qualifier = '2017/10/06/OO-HYVM1--YDH-' + timestamp + '.000016.'\n",
    "filetype_qualifier = 'mseed'\n",
    "data_url = base_url + instrument_qualifier + datetime_qualifier + filetype_qualifier\n",
    "stream = read(data_url)\n",
    "print(stream)"
   ]
  },
  {
   "cell_type": "code",
   "execution_count": null,
   "metadata": {
    "ExecuteTime": {
     "end_time": "2018-11-06T20:12:26.576668Z",
     "start_time": "2018-11-06T20:12:25.388450Z"
    }
   },
   "outputs": [],
   "source": [
    "#lets remove some lower frequency\n",
    "sample = stream[0]\n",
    "print(sample)\n",
    "# sample.plot()\n",
    "sample.filter('highpass', freq=15000.0)\n",
    "sample.plot(starttime=sample.stats.starttime + 0.4, endtime = sample.stats.starttime + 0.401)"
   ]
  },
  {
   "cell_type": "code",
   "execution_count": null,
   "metadata": {},
   "outputs": [],
   "source": [
    "sample = stream[0]\n",
    "dt = sample.stats.starttime\n",
    "jump_sec = 52*5\n",
    "sample.plot(color='red', number_of_ticks=7, \n",
    "                   tick_rotation=5, tick_format='%I:%M %p',\n",
    "                   starttime=dt + jump_sec, endtime=dt + jump_sec + 40)  # .86 to .88 is an ADCP spike"
   ]
  },
  {
   "cell_type": "code",
   "execution_count": null,
   "metadata": {
    "ExecuteTime": {
     "end_time": "2018-11-06T20:12:26.576668Z",
     "start_time": "2018-11-06T20:12:25.388450Z"
    }
   },
   "outputs": [],
   "source": [
    "# Normalize the signal: operates in place\n",
    "# Without doing this Shiv says the results are inaudible\n",
    "sample.normalize()\n",
    "# sample.plot()\n",
    "\n",
    "# convert our samples to integer values\n",
    "sample.data = (sample.data * (2**31-1)).astype('int32')\n",
    "\n",
    "# save as a .wav file; making sure framerate agrees with obspy's evaluation of the dataset\n",
    "sample.write(samplefnm, format='WAV', framerate=64000)"
   ]
  },
  {
   "cell_type": "code",
   "execution_count": null,
   "metadata": {
    "ExecuteTime": {
     "end_time": "2018-11-06T20:12:27.013596Z",
     "start_time": "2018-11-06T20:12:27.007212Z"
    }
   },
   "outputs": [],
   "source": [
    "# Using wave library\n",
    "wav = wave.open(samplefnm)\n",
    "print(\"Sampling (frame) rate = \", wav.getframerate())\n",
    "print(\"Total samples (frames) = \", wav.getnframes())\n",
    "print(\"Duration = \", wav.getnframes()/wav.getframerate())"
   ]
  },
  {
   "cell_type": "code",
   "execution_count": null,
   "metadata": {
    "ExecuteTime": {
     "end_time": "2018-11-06T20:12:28.004517Z",
     "start_time": "2018-11-06T20:12:27.422320Z"
    }
   },
   "outputs": [],
   "source": [
    "doThis = False\n",
    "\n",
    "if doThis:\n",
    "    sample_audio = AudioSegment.from_file(samplefnm , \"wav\") \n",
    "\n",
    "    # this length is in milliseconds; so 5000 is 5 seconds\n",
    "    chunk_length = 5000\n",
    "    chunks = make_chunks(sample_audio, chunk_length)\n",
    "\n",
    "    #Export chunks as wav files and save locally \n",
    "    # To use a sub-folder called 'audio_sample' first un-comment this code and then\n",
    "    #   modify the chunk_name variable in the following.\n",
    "    # try:\n",
    "    #     os.makedirs('audio_sample')\n",
    "    # except OSError:\n",
    "    #     print('Folder already there')\n",
    "    #     pass\n",
    "\n",
    "\n",
    "    for i, chunk in enumerate(chunks):\n",
    "        chunk_name = \"chunk{0}.wav\".format(i)\n",
    "        print (\"exporting\", chunk_name)\n",
    "        chunk.export(chunk_name, format=\"wav\")"
   ]
  },
  {
   "cell_type": "code",
   "execution_count": null,
   "metadata": {
    "ExecuteTime": {
     "end_time": "2018-11-06T20:12:28.412934Z",
     "start_time": "2018-11-06T20:12:28.376623Z"
    }
   },
   "outputs": [],
   "source": [
    "#Lets listen to one chunkedd audio\n",
    "oneminutefnm = 'chunk52.wav'\n",
    "ipd.Audio(oneminutefnm)"
   ]
  },
  {
   "cell_type": "markdown",
   "metadata": {},
   "source": [
    "### Remark on window length and resolution \n",
    "\n",
    "\n",
    "Let us extract essential information from sound files to generate a spectogram.\n",
    "We use Scipy spectrogram function to get the essential information.\n",
    "\n",
    "\n",
    "There is some fine-tuning of window size to balance temporal resolution and frequency resolution.\n",
    "The wider the window size in time the lower the temporal resolution; but this makes more frequencies\n",
    "available so frequency resolution is higher. \n",
    "See for example this \n",
    "[signal processing reference](https://en.wikipedia.org/wiki/Uncertainty_principle#Signal_processing)."
   ]
  },
  {
   "cell_type": "code",
   "execution_count": null,
   "metadata": {
    "ExecuteTime": {
     "end_time": "2018-11-06T20:12:28.839483Z",
     "start_time": "2018-11-06T20:12:28.832149Z"
    }
   },
   "outputs": [],
   "source": [
    "# notice default parameters window_size = 10, step_size = 1, eps = 1e-10\n",
    "#   If we modify the window to be 20... it blurs in the time axis, sharpens frequency\n",
    "#   If ... 5 ... the reverse is the case\n",
    "\n",
    "def spectogram_data(audio, sample_rate, window_size=10, step_size=1, eps=1e-10):\n",
    "    nperseg = int(round(window_size * sample_rate / 1e3))\n",
    "    noverlap = int(round(step_size * sample_rate / 1e3))\n",
    "    print(nperseg, noverlap)\n",
    "    freqs, times, spec = signal.spectrogram(audio,\n",
    "                                    fs=sample_rate,\n",
    "                                    window='hann',\n",
    "                                    nperseg=nperseg,\n",
    "                                    noverlap=noverlap,\n",
    "                                    detrend=False)\n",
    "    return freqs, times, np.log(spec.T.astype(np.float32) + eps)"
   ]
  },
  {
   "cell_type": "code",
   "execution_count": null,
   "metadata": {
    "ExecuteTime": {
     "end_time": "2018-11-06T20:12:29.804523Z",
     "start_time": "2018-11-06T20:12:29.236189Z"
    }
   },
   "outputs": [],
   "source": [
    "datafnm = 'chunk52.wav'\n",
    "\n",
    "sample_rate, samples = wavfile.read(datafnm)\n",
    "frequency_val, time_val, spectrogram = spectogram_data(samples, sample_rate) # default window = 10\n",
    "\n",
    "fig = plt.figure(figsize=(16, 16))\n",
    "ax2 = fig.add_subplot(211)\n",
    "ax2.imshow(spectrogram.T, aspect='auto', origin='lower', extent=[time_val.min(), time_val.max(), frequency_val.min(), frequency_val.max()])\n",
    "ax2.set_yticks(frequency_val[::100])\n",
    "ax2.set_xticks(time_val[::100])\n",
    "ax2.set_title('Spectrogram')\n",
    "ax2.set_ylabel('Freqs in Hz')\n",
    "ax2.set_xlabel('Seconds')\n",
    "ipd.Audio(oneminutefnm)"
   ]
  },
  {
   "cell_type": "code",
   "execution_count": null,
   "metadata": {},
   "outputs": [],
   "source": [
    "datafnm = 'chunk52.wav'\n",
    "\n",
    "sample_rate, samples = wavfile.read(datafnm)\n",
    "frequency_val, time_val, spectrogram = spectogram_data(samples, sample_rate, 20)\n",
    "\n",
    "fig = plt.figure(figsize=(16, 16))\n",
    "ax2 = fig.add_subplot(211)\n",
    "ax2.imshow(spectrogram.T, aspect='auto', origin='lower', extent=[time_val.min(), time_val.max(), frequency_val.min(), frequency_val.max()])\n",
    "ax2.set_yticks(frequency_val[::100])\n",
    "ax2.set_xticks(time_val[::100])\n",
    "ax2.set_title('Spectrogram')\n",
    "ax2.set_ylabel('Freqs in Hz')\n",
    "ax2.set_xlabel('Seconds')\n",
    "ipd.Audio(oneminutefnm)"
   ]
  },
  {
   "cell_type": "code",
   "execution_count": null,
   "metadata": {},
   "outputs": [],
   "source": [
    "datafnm = 'chunk52.wav'\n",
    "\n",
    "sample_rate, samples = wavfile.read(datafnm)\n",
    "frequency_val, time_val, spectrogram = spectogram_data(samples, sample_rate, 5)\n",
    "\n",
    "fig = plt.figure(figsize=(16, 16))\n",
    "ax2 = fig.add_subplot(211)\n",
    "ax2.imshow(spectrogram.T, aspect='auto', origin='lower', extent=[time_val.min(), time_val.max(), frequency_val.min(), frequency_val.max()])\n",
    "ax2.set_yticks(frequency_val[::100])\n",
    "ax2.set_xticks(time_val[::100])\n",
    "ax2.set_title('Spectrogram')\n",
    "ax2.set_ylabel('Freqs in Hz')\n",
    "ax2.set_xlabel('Seconds')\n",
    "ipd.Audio(oneminutefnm)"
   ]
  },
  {
   "cell_type": "markdown",
   "metadata": {
    "ExecuteTime": {
     "end_time": "2018-11-06T19:31:00.058819Z",
     "start_time": "2018-11-06T19:31:00.056630Z"
    }
   },
   "source": [
    "# Lets see how a spectogram looks in 3D"
   ]
  },
  {
   "cell_type": "code",
   "execution_count": null,
   "metadata": {
    "ExecuteTime": {
     "end_time": "2018-11-06T20:13:24.497177Z",
     "start_time": "2018-11-06T20:13:23.262546Z"
    }
   },
   "outputs": [],
   "source": [
    "# use plotly to render a 3d representation of spectogram.\n",
    "data = [go.Surface(z=spectrogram.T)]\n",
    "layout = go.Layout(\n",
    "    title='Specgtrogram in 3d',\n",
    "    scene = dict(\n",
    "    yaxis = dict(title='Frequencies'),\n",
    "    xaxis = dict(title='Time'),\n",
    "    zaxis = dict(title='Log amplitude'),\n",
    "    ),\n",
    ")\n",
    "fig = go.Figure(data=data, layout=layout)\n",
    "py.iplot(fig)"
   ]
  },
  {
   "cell_type": "code",
   "execution_count": null,
   "metadata": {},
   "outputs": [],
   "source": []
  }
 ],
 "metadata": {
  "kernelspec": {
   "display_name": "Python [default]",
   "language": "python",
   "name": "python3"
  },
  "language_info": {
   "codemirror_mode": {
    "name": "ipython",
    "version": 3
   },
   "file_extension": ".py",
   "mimetype": "text/x-python",
   "name": "python",
   "nbconvert_exporter": "python",
   "pygments_lexer": "ipython3",
   "version": "3.6.6"
  },
  "varInspector": {
   "cols": {
    "lenName": 16,
    "lenType": 16,
    "lenVar": 40
   },
   "kernels_config": {
    "python": {
     "delete_cmd_postfix": "",
     "delete_cmd_prefix": "del ",
     "library": "var_list.py",
     "varRefreshCmd": "print(var_dic_list())"
    },
    "r": {
     "delete_cmd_postfix": ") ",
     "delete_cmd_prefix": "rm(",
     "library": "var_list.r",
     "varRefreshCmd": "cat(var_dic_list()) "
    }
   },
   "types_to_exclude": [
    "module",
    "function",
    "builtin_function_or_method",
    "instance",
    "_Feature"
   ],
   "window_display": false
  }
 },
 "nbformat": 4,
 "nbformat_minor": 2
}
